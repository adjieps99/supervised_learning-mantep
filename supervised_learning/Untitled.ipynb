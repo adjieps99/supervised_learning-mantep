{
 "cells": [
  {
   "cell_type": "code",
   "execution_count": 1,
   "id": "4d12dc64",
   "metadata": {},
   "outputs": [],
   "source": [
    "import numpy as np\n",
    "import matplotlib.pyplot as plt\n",
    "from PIL import Image\n",
    "\n",
    "from luwiji.image_proc import demo, illustration"
   ]
  },
  {
   "cell_type": "markdown",
   "id": "96f06351",
   "metadata": {},
   "source": [
    "# Membaca File gambar menggunakan Matplotlib"
   ]
  },
  {
   "cell_type": "code",
   "execution_count": null,
   "id": "40aaf023",
   "metadata": {},
   "outputs": [],
   "source": []
  }
 ],
 "metadata": {
  "kernelspec": {
   "display_name": "Python [conda env:jcopml]",
   "language": "python",
   "name": "conda-env-jcopml-py"
  },
  "language_info": {
   "codemirror_mode": {
    "name": "ipython",
    "version": 3
   },
   "file_extension": ".py",
   "mimetype": "text/x-python",
   "name": "python",
   "nbconvert_exporter": "python",
   "pygments_lexer": "ipython3",
   "version": "3.7.6"
  }
 },
 "nbformat": 4,
 "nbformat_minor": 5
}
